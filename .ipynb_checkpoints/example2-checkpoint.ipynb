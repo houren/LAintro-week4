{
 "cells": [
  {
   "cell_type": "markdown",
   "metadata": {},
   "source": [
    "# Example 2: Modeling communication in a discussion forum"
   ]
  },
  {
   "cell_type": "markdown",
   "metadata": {},
   "source": [
    "Here we attempt to model communication flow in a MOOC's discussion forum, based on participants' posting activity.\n",
    "#Data\n",
    "We provide a file with the students' posting activity in the forum: the students are portrayed in rows and the post messages in columns. For example, if you print the data you will see that the student with user id (uid) 3992067770 has interacted (either posted or replied) with posts X4, X7, X15, X62 and X64."
   ]
  },
  {
   "cell_type": "code",
   "execution_count": null,
   "metadata": {
    "scrolled": true
   },
   "outputs": [],
   "source": [
    "#import all the necessary libraries\n",
    "library(\"network\")"
   ]
  },
  {
   "cell_type": "code",
   "execution_count": null,
   "metadata": {},
   "outputs": [],
   "source": [
    "#read and prepare the data into the dataframe named forum\n",
    "forum = read.csv(\"./forum.csv\")\n",
    "rownames(forum)<- forum[,1]\n",
    "forum[,1] <- NULL\n",
    "forum# Example 1: Student modelling & prediction\n"
   ]
  },
  {
   "cell_type": "code",
   "execution_count": null,
   "metadata": {},
   "outputs": [],
   "source": [
    "#prepare the association matrix and print out the 10 first rows and 10 first columns\n",
    "\n",
    "forum = as.matrix(forum)\n",
    "forum_am = forum %*%t(forum)\n",
    "forum_am[1:10,1:10]"
   ]
  },
  {
   "cell_type": "code",
   "execution_count": null,
   "metadata": {},
   "outputs": [],
   "source": [
    "#create the graph (network) from the association matrix and save it with the name net\n",
    "net <- network(forum)\n",
    "\n",
    "#plot the network! users are nodes, user interactions are edges!\n",
    "plot(net)\n"
   ]
  },
  {
   "cell_type": "code",
   "execution_count": null,
   "metadata": {},
   "outputs": [],
   "source": [
    "#print out an overview of this network's parameters and metrics\n",
    "#make sure to SCROLL DOWN in the results window!!!!\n",
    "\n",
    "summary(net)\n",
    "network.density(net)\n",
    "network.edgecount(net)\n",
    "network.size(net)\n"
   ]
  },
  {
   "cell_type": "markdown",
   "metadata": {},
   "source": [
    "by the way... we can plot the students' names on the network nodes. it just doesn't look nice in this example ;)"
   ]
  },
  {
   "cell_type": "code",
   "execution_count": null,
   "metadata": {},
   "outputs": [],
   "source": [
    "users = rownames(forum)\n",
    "network.vertex.names(net) = users\n",
    "plot.network(net, displaylabels = T)"
   ]
  },
  {
   "cell_type": "code",
   "execution_count": null,
   "metadata": {},
   "outputs": [],
   "source": []
  }
 ],
 "metadata": {
  "kernelspec": {
   "display_name": "R",
   "language": "R",
   "name": "ir"
  },
  "language_info": {
   "codemirror_mode": "r",
   "file_extension": ".r",
   "mimetype": "text/x-r-source",
   "name": "R",
   "pygments_lexer": "r",
   "version": "3.4.4"
  }
 },
 "nbformat": 4,
 "nbformat_minor": 2
}
