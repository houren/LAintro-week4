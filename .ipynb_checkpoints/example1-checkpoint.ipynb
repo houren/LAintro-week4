{
 "cells": [
  {
   "cell_type": "markdown",
   "metadata": {},
   "source": [
    "# Example 1: Student modelling & prediction"
   ]
  },
  {
   "cell_type": "markdown",
   "metadata": {},
   "source": [
    "Here we attempt to identify students at risk, based on their activity in Moodle. As \"at risk\" we identify a student that has scored lower a grade lower than 2 in the course (0 is a fail, 5 is an excellent).\n",
    "## Data\n",
    "we provide a file with students' grade and a file with the number of times a student has accessed a component of a certain type. \n",
    "For example, if you print the data you will see that the student with user id (uid) 10020 has accessed a URL component 22 times."
   ]
  },
  {
   "cell_type": "markdown",
   "metadata": {},
   "source": [
    "First we load the libraries that we will need"
   ]
  },
  {
   "cell_type": "code",
   "execution_count": null,
   "metadata": {},
   "outputs": [],
   "source": [
    "library(\"corrplot\")\n",
    "library(\"DAAG\")"
   ]
  },
  {
   "cell_type": "code",
   "execution_count": null,
   "metadata": {},
   "outputs": [],
   "source": [
    "#read the datasets containt information about accessing components and grades\n",
    "component_stats = read.csv(\"components_stats.csv\")\n",
    "grades = read.csv(\"grades.csv\")\n",
    "\n",
    "#merge these two datasets. \n",
    "#In this way, we create a unified dataset taht associates student's online activity with performance(grades)\n",
    "comp_grade = merge(component_stats, grades, by = \"uid\")\n",
    "\n",
    "\n",
    "#lets have a look at the 10 first rows of our dataset\n",
    "comp_grade[1:10,]"
   ]
  },
  {
   "cell_type": "markdown",
   "metadata": {},
   "source": [
    "## Students at risk"
   ]
  },
  {
   "cell_type": "code",
   "execution_count": null,
   "metadata": {},
   "outputs": [],
   "source": [
    "#now lets create a variable \"success\" that we will use to signify students at risk\n",
    "# For this example, students with success = 0 are considered to be at risk\n",
    "comp_grade <- transform(comp_grade, success= ifelse(Final.Grade>= 3, 1, 0))\n",
    "\n",
    "#lets see how it looks!\n",
    "comp_grade[1:10,]"
   ]
  },
  {
   "cell_type": "markdown",
   "metadata": {},
   "source": [
    "# Step 1: Identify Predictors\n",
    "\n",
    "Then we run a correlation analysis to identify which metrics relate to student's performance. Then we plot the results of the correlation analysis!"
   ]
  },
  {
   "cell_type": "code",
   "execution_count": null,
   "metadata": {},
   "outputs": [],
   "source": [
    "compcor = cor(comp_grade)\n",
    "corrplot(compcor, method = \"circle\")"
   ]
  },
  {
   "cell_type": "markdown",
   "metadata": {},
   "source": [
    "Lets see some correlations' results between specific metrics and final grade, to get a rough idea what we're talking about!"
   ]
  },
  {
   "cell_type": "code",
   "execution_count": null,
   "metadata": {},
   "outputs": [],
   "source": [
    "cor.test(comp_grade$Final.Grade,comp_grade$Page)\n",
    "cor.test(comp_grade$Final.Grade,comp_grade$System)\n",
    "cor.test(comp_grade$Final.Grade,comp_grade$HotPot.module)\n",
    "cor.test(comp_grade$Final.Grade,comp_grade$Book)\n",
    "cor.test(comp_grade$Final.Grade,comp_grade$Mindmap)"
   ]
  },
  {
   "cell_type": "markdown",
   "metadata": {},
   "source": [
    "####################################################\n",
    "\n",
    "## Step 2: Build a student model\n",
    "\n",
    "Here we implement a logistic regression model to predict students at risk.\n",
    "We use the metrics we explore above (components) as predictors and we attempt to predict the value of the variable \"success\".\n",
    "\n",
    "Here our model is a binary classifier - 1 means the student will complete the course successfully and 0 means the student is at risk.\n",
    "\n",
    "####################################################"
   ]
  },
  {
   "cell_type": "code",
   "execution_count": null,
   "metadata": {},
   "outputs": [],
   "source": [
    "# we train the student model using our dataset and logistic regression where success is the variable \n",
    "# we want to predict using as input the metrics:Page, System etc.\n",
    "predictSuccess <- glm(success ~ Page + System + HotPot.module + Book + Mindmap, data = comp_grade, family = binomial())\n",
    "\n",
    "#here we provide an overview of the model we just trained\n",
    "summary(predictSuccess)\n",
    "\n",
    "#print out the cross validation results for the training phase\n",
    "CVbinary(predictSuccess)"
   ]
  },
  {
   "cell_type": "markdown",
   "metadata": {},
   "source": [
    "## Step 3: Prediction"
   ]
  },
  {
   "cell_type": "code",
   "execution_count": null,
   "metadata": {},
   "outputs": [],
   "source": [
    "#we split our dataset into two, in order to try out the prediction\n",
    "trainset = comp_grade[0:27,]\n",
    "testset = comp_grade[28:31,]\n",
    "\n",
    "#we retrain the model using the trainset\n",
    "predictSuccess <- glm(success ~ Page + System + HotPot.module + Book + Mindmap, data = trainset, family = binomial())\n",
    "\n",
    "#we predict the variable success for the test set and compute the accuracy of our prediction\n",
    "fitted.results <- predict(predictSuccess,newdata=testset,type='response')\n",
    "fitted.results <- ifelse(fitted.results > 0.5,1,0)\n",
    "misClasificError <- mean(fitted.results != testset$success)\n",
    "print(paste('Accuracy',1-misClasificError))\n"
   ]
  },
  {
   "cell_type": "markdown",
   "metadata": {},
   "source": [
    "## Conclusion\n",
    "\n",
    "\n"
   ]
  }
 ],
 "metadata": {
  "kernelspec": {
   "display_name": "R",
   "language": "R",
   "name": "ir"
  },
  "language_info": {
   "codemirror_mode": "r",
   "file_extension": ".r",
   "mimetype": "text/x-r-source",
   "name": "R",
   "pygments_lexer": "r",
   "version": "3.4.4"
  }
 },
 "nbformat": 4,
 "nbformat_minor": 2
}
